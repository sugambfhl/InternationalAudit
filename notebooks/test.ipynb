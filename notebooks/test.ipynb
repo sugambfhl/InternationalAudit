{
 "cells": [
  {
   "cell_type": "code",
   "execution_count": 1,
   "id": "ee9cae91",
   "metadata": {},
   "outputs": [],
   "source": [
    "%load_ext autoreload\n",
    "%autoreload 2"
   ]
  },
  {
   "cell_type": "code",
   "execution_count": 2,
   "id": "007b65a1",
   "metadata": {},
   "outputs": [],
   "source": [
    "from pathlib import Path"
   ]
  },
  {
   "cell_type": "code",
   "execution_count": 15,
   "id": "cf44bc37",
   "metadata": {},
   "outputs": [],
   "source": [
    "date_folder = \"18-07-2025\"\n",
    "file_name = \"18th_july_preauth_sheet_rearranged_by_python(in).csv\""
   ]
  },
  {
   "cell_type": "code",
   "execution_count": 16,
   "id": "f4e6af79",
   "metadata": {},
   "outputs": [],
   "source": [
    "PROJECT_PATH = Path(__name__).parent.resolve()\n",
    "DATA_PATH = PROJECT_PATH / \"data\"\n",
    "OUTPUT_PATH = PROJECT_PATH / \"output\""
   ]
  },
  {
   "cell_type": "code",
   "execution_count": 17,
   "id": "427eb5f9",
   "metadata": {},
   "outputs": [],
   "source": [
    "import sys\n",
    "\n",
    "sys.path.append(str(PROJECT_PATH))"
   ]
  },
  {
   "cell_type": "code",
   "execution_count": 18,
   "id": "5ee02632",
   "metadata": {},
   "outputs": [],
   "source": [
    "import warnings\n",
    "\n",
    "import pandas as pd\n",
    "\n",
    "from preprocess import PreprocessClass\n",
    "from rules import ComputeRule\n",
    "\n",
    "warnings.filterwarnings(\"ignore\")\n",
    "\n",
    "pd.set_option(\"display.max_columns\", 500)\n",
    "pd.set_option(\"display.width\", 1000)"
   ]
  },
  {
   "cell_type": "code",
   "execution_count": 19,
   "id": "7fb64c1a",
   "metadata": {},
   "outputs": [],
   "source": [
    "# df_master = pd.read_excel(\n",
    "#     DATA_PATH / \"Data to Sugam.xlsx\", sheet_name=\"Claims\", dtype=\"str\"\n",
    "# ).drop(columns=[\"Unnamed: 125\"], axis=1, errors=\"ignore\")"
   ]
  },
  {
   "cell_type": "code",
   "execution_count": 20,
   "id": "e2021138",
   "metadata": {},
   "outputs": [],
   "source": [
    "df_master = pd.read_csv(DATA_PATH / date_folder / file_name)"
   ]
  },
  {
   "cell_type": "code",
   "execution_count": 21,
   "id": "2fb30ae8",
   "metadata": {},
   "outputs": [],
   "source": [
    "df = df_master.copy(deep=True)"
   ]
  },
  {
   "cell_type": "code",
   "execution_count": 22,
   "id": "0152d7a2",
   "metadata": {},
   "outputs": [],
   "source": [
    "preprocess_client = PreprocessClass()\n",
    "rules_client = ComputeRule()"
   ]
  },
  {
   "cell_type": "code",
   "execution_count": 23,
   "id": "5138bc9c",
   "metadata": {},
   "outputs": [
    {
     "name": "stderr",
     "output_type": "stream",
     "text": [
      "\u001b[32m2025-07-18 12:45:52.651\u001b[0m | \u001b[33m\u001b[1mWARNING \u001b[0m | \u001b[36mpreprocess\u001b[0m:\u001b[36m__fix_datetime_cols\u001b[0m:\u001b[36m29\u001b[0m - \u001b[33m\u001b[1mMissing datetime columns: ['RECEIVED_DATE', 'ADDED_DATE', 'COMPLETED_DATE', 'ADMISSION_DATE', 'DISCHARGE_DATE', 'DOB', 'CLAIM_COMPLETED_DATE_TIME', 'AUDITED DATE']\u001b[0m\n",
      "\u001b[32m2025-07-18 12:45:52.655\u001b[0m | \u001b[33m\u001b[1mWARNING \u001b[0m | \u001b[36mpreprocess\u001b[0m:\u001b[36m__fix_numerical_cols\u001b[0m:\u001b[36m48\u001b[0m - \u001b[33m\u001b[1mMissing numerical columns: []\u001b[0m\n",
      "\u001b[32m2025-07-18 12:45:52.689\u001b[0m | \u001b[32m\u001b[1mSUCCESS \u001b[0m | \u001b[36mrules\u001b[0m:\u001b[36m_compute_inclusion_exclusion\u001b[0m:\u001b[36m87\u001b[0m - \u001b[32m\u001b[1mSuccessfull Run: General exclusion - HIV\u001b[0m\n",
      "\u001b[32m2025-07-18 12:45:52.708\u001b[0m | \u001b[32m\u001b[1mSUCCESS \u001b[0m | \u001b[36mrules\u001b[0m:\u001b[36m_compute_inclusion_exclusion\u001b[0m:\u001b[36m87\u001b[0m - \u001b[32m\u001b[1mSuccessfull Run: General exclusion-Zirconium Crown\u001b[0m\n",
      "\u001b[32m2025-07-18 12:45:52.730\u001b[0m | \u001b[32m\u001b[1mSUCCESS \u001b[0m | \u001b[36mrules\u001b[0m:\u001b[36m_compute_inclusion_exclusion\u001b[0m:\u001b[36m87\u001b[0m - \u001b[32m\u001b[1mSuccessfull Run: General exclusion-COVID\u001b[0m\n",
      "\u001b[32m2025-07-18 12:45:52.749\u001b[0m | \u001b[32m\u001b[1mSUCCESS \u001b[0m | \u001b[36mrules\u001b[0m:\u001b[36m_compute_inclusion_exclusion\u001b[0m:\u001b[36m87\u001b[0m - \u001b[32m\u001b[1mSuccessfull Run: General exclusion-HPV SCREENING\u001b[0m\n",
      "\u001b[32m2025-07-18 12:45:52.766\u001b[0m | \u001b[32m\u001b[1mSUCCESS \u001b[0m | \u001b[36mrules\u001b[0m:\u001b[36m_compute_inclusion_exclusion\u001b[0m:\u001b[36m87\u001b[0m - \u001b[32m\u001b[1mSuccessfull Run: General exclusion-ALOPECIA\u001b[0m\n",
      "\u001b[32m2025-07-18 12:45:52.889\u001b[0m | \u001b[32m\u001b[1mSUCCESS \u001b[0m | \u001b[36mrules\u001b[0m:\u001b[36m_compute_inclusion_exclusion\u001b[0m:\u001b[36m87\u001b[0m - \u001b[32m\u001b[1mSuccessfull Run: Quantity More Than 1\u001b[0m\n",
      "\u001b[32m2025-07-18 12:45:52.923\u001b[0m | \u001b[32m\u001b[1mSUCCESS \u001b[0m | \u001b[36mrules\u001b[0m:\u001b[36m_compute_inclusion_exclusion\u001b[0m:\u001b[36m87\u001b[0m - \u001b[32m\u001b[1mSuccessfull Run: PAP Smear Age Restriction\u001b[0m\n",
      "\u001b[32m2025-07-18 12:45:52.938\u001b[0m | \u001b[32m\u001b[1mSUCCESS \u001b[0m | \u001b[36mrules\u001b[0m:\u001b[36m_compute_inclusion_exclusion\u001b[0m:\u001b[36m87\u001b[0m - \u001b[32m\u001b[1mSuccessfull Run: Desensitization\u001b[0m\n",
      "\u001b[32m2025-07-18 12:45:52.952\u001b[0m | \u001b[32m\u001b[1mSUCCESS \u001b[0m | \u001b[36mrules\u001b[0m:\u001b[36m_compute_inclusion_exclusion\u001b[0m:\u001b[36m87\u001b[0m - \u001b[32m\u001b[1mSuccessfull Run: Zinc-General Exclusion\u001b[0m\n",
      "\u001b[32m2025-07-18 12:45:52.962\u001b[0m | \u001b[32m\u001b[1mSUCCESS \u001b[0m | \u001b[36mrules\u001b[0m:\u001b[36m_compute_inclusion_exclusion\u001b[0m:\u001b[36m87\u001b[0m - \u001b[32m\u001b[1mSuccessfull Run: Betadine Mouth wash\u001b[0m\n",
      "\u001b[32m2025-07-18 12:45:52.968\u001b[0m | \u001b[32m\u001b[1mSUCCESS \u001b[0m | \u001b[36mrules\u001b[0m:\u001b[36m_compute_inclusion_exclusion\u001b[0m:\u001b[36m87\u001b[0m - \u001b[32m\u001b[1mSuccessfull Run: Cough Syrup-Quantity 2\u001b[0m\n",
      "\u001b[32m2025-07-18 12:45:52.975\u001b[0m | \u001b[32m\u001b[1mSUCCESS \u001b[0m | \u001b[36mrules\u001b[0m:\u001b[36m_compute_inclusion_exclusion\u001b[0m:\u001b[36m87\u001b[0m - \u001b[32m\u001b[1mSuccessfull Run: Nasal Spray-Quantity 2\u001b[0m\n",
      "\u001b[32m2025-07-18 12:45:52.986\u001b[0m | \u001b[32m\u001b[1mSUCCESS \u001b[0m | \u001b[36mrules\u001b[0m:\u001b[36m_compute_inclusion_exclusion\u001b[0m:\u001b[36m87\u001b[0m - \u001b[32m\u001b[1mSuccessfull Run: Nebulizer- Quantity 1\u001b[0m\n",
      "\u001b[32m2025-07-18 12:45:52.992\u001b[0m | \u001b[32m\u001b[1mSUCCESS \u001b[0m | \u001b[36mrules\u001b[0m:\u001b[36m_compute_inclusion_exclusion\u001b[0m:\u001b[36m87\u001b[0m - \u001b[32m\u001b[1mSuccessfull Run: H-Pylori Antibody not covered\u001b[0m\n",
      "\u001b[32m2025-07-18 12:45:53.004\u001b[0m | \u001b[32m\u001b[1mSUCCESS \u001b[0m | \u001b[36mrules\u001b[0m:\u001b[36m_compute_inclusion_exclusion\u001b[0m:\u001b[36m87\u001b[0m - \u001b[32m\u001b[1mSuccessfull Run: Gardenia-Large Dressing not covered\u001b[0m\n",
      "\u001b[32m2025-07-18 12:45:53.011\u001b[0m | \u001b[32m\u001b[1mSUCCESS \u001b[0m | \u001b[36mrules\u001b[0m:\u001b[36m_compute_inclusion_exclusion\u001b[0m:\u001b[36m87\u001b[0m - \u001b[32m\u001b[1mSuccessfull Run: Sidra Medical Male Above 17 Years\u001b[0m\n"
     ]
    }
   ],
   "source": [
    "preprocessed_data = preprocess_client.run_preprocess(df=df)\n",
    "rules_applied_data = rules_client.apply_all_rules(preprocessed_data)"
   ]
  },
  {
   "cell_type": "code",
   "execution_count": 24,
   "id": "00394b9d",
   "metadata": {},
   "outputs": [
    {
     "name": "stdout",
     "output_type": "stream",
     "text": [
      "['[]' \"['General exclusion - Sick Leave']\" \"['Quantity More Than 1']\"\n",
      " \"['H-Pylori Antibody not covered']\" \"['Zinc-General Exclusion']\"\n",
      " \"['General exclusion-ALOPECIA']\" \"['General exclusion-Zirconium Crown']\"]\n",
      "7\n"
     ]
    }
   ],
   "source": [
    "print(rules_applied_data[\"Filter Applied\"].astype(str).unique())\n",
    "print(rules_applied_data[\"Filter Applied\"].astype(str).nunique())"
   ]
  },
  {
   "cell_type": "code",
   "execution_count": 25,
   "id": "b64e9a92",
   "metadata": {},
   "outputs": [],
   "source": [
    "output_folder = OUTPUT_PATH / date_folder\n",
    "output_folder.mkdir(parents=True, exist_ok=True)"
   ]
  },
  {
   "cell_type": "code",
   "execution_count": 26,
   "id": "32df137c",
   "metadata": {},
   "outputs": [],
   "source": [
    "rules_applied_data.to_csv(OUTPUT_PATH / date_folder / file_name, index=False)"
   ]
  },
  {
   "cell_type": "code",
   "execution_count": null,
   "id": "c8521fea",
   "metadata": {},
   "outputs": [],
   "source": []
  }
 ],
 "metadata": {
  "kernelspec": {
   "display_name": "base",
   "language": "python",
   "name": "python3"
  },
  "language_info": {
   "codemirror_mode": {
    "name": "ipython",
    "version": 3
   },
   "file_extension": ".py",
   "mimetype": "text/x-python",
   "name": "python",
   "nbconvert_exporter": "python",
   "pygments_lexer": "ipython3",
   "version": "3.12.3"
  }
 },
 "nbformat": 4,
 "nbformat_minor": 5
}
